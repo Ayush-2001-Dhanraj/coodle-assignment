{
 "cells": [
  {
   "cell_type": "code",
   "execution_count": 7,
   "id": "034a5674",
   "metadata": {},
   "outputs": [
    {
     "name": "stdout",
     "output_type": "stream",
     "text": [
      "Collecting openpyxl\n",
      "  Downloading openpyxl-3.1.5-py2.py3-none-any.whl.metadata (2.5 kB)\n",
      "Collecting et-xmlfile (from openpyxl)\n",
      "  Downloading et_xmlfile-2.0.0-py3-none-any.whl.metadata (2.7 kB)\n",
      "Downloading openpyxl-3.1.5-py2.py3-none-any.whl (250 kB)\n",
      "Downloading et_xmlfile-2.0.0-py3-none-any.whl (18 kB)\n",
      "Installing collected packages: et-xmlfile, openpyxl\n",
      "\n",
      "   -------------------- ------------------- 1/2 [openpyxl]\n",
      "   -------------------- ------------------- 1/2 [openpyxl]\n",
      "   -------------------- ------------------- 1/2 [openpyxl]\n",
      "   -------------------- ------------------- 1/2 [openpyxl]\n",
      "   -------------------- ------------------- 1/2 [openpyxl]\n",
      "   -------------------- ------------------- 1/2 [openpyxl]\n",
      "   -------------------- ------------------- 1/2 [openpyxl]\n",
      "   -------------------- ------------------- 1/2 [openpyxl]\n",
      "   -------------------- ------------------- 1/2 [openpyxl]\n",
      "   -------------------- ------------------- 1/2 [openpyxl]\n",
      "   -------------------- ------------------- 1/2 [openpyxl]\n",
      "   ---------------------------------------- 2/2 [openpyxl]\n",
      "\n",
      "Successfully installed et-xmlfile-2.0.0 openpyxl-3.1.5\n"
     ]
    }
   ],
   "source": [
    "!pip install openpyxl"
   ]
  },
  {
   "cell_type": "code",
   "execution_count": 3,
   "id": "fd06e293",
   "metadata": {},
   "outputs": [],
   "source": [
    "import pandas as pd"
   ]
  },
  {
   "cell_type": "code",
   "execution_count": 21,
   "id": "be908fe0",
   "metadata": {},
   "outputs": [],
   "source": [
    "girls_data = pd.read_excel(\"data/percentile_girls.xlsx\")\n",
    "boys_data = pd.read_excel(\"data/percentile_boys.xlsx\")"
   ]
  },
  {
   "cell_type": "code",
   "execution_count": 22,
   "id": "3830f30a",
   "metadata": {},
   "outputs": [
    {
     "data": {
      "text/plain": [
       "Index(['Month', 'L', 'M', 'S', 'P01', 'P1', 'P3', 'P5', 'P10', 'P15', 'P25',\n",
       "       'P50', 'P75', 'P85', 'P90', 'P95', 'P97', 'P99', 'P999'],\n",
       "      dtype='object')"
      ]
     },
     "execution_count": 22,
     "metadata": {},
     "output_type": "execute_result"
    }
   ],
   "source": [
    "girls_data.columns"
   ]
  },
  {
   "cell_type": "code",
   "execution_count": 23,
   "id": "147954ea",
   "metadata": {},
   "outputs": [],
   "source": [
    "girls_data = girls_data[girls_data['Month'] < 24].drop(columns=[\"L\", \"M\", \"S\", \"Month\", \"P01\", \"P999\"])\n",
    "boys_data = boys_data[boys_data['Month'] < 24].drop(columns=[\"L\", \"M\", \"S\", \"Month\", \"P01\", \"P999\"])"
   ]
  },
  {
   "cell_type": "code",
   "execution_count": 24,
   "id": "626e7e4f",
   "metadata": {},
   "outputs": [
    {
     "name": "stdout",
     "output_type": "stream",
     "text": [
      "<class 'pandas.core.frame.DataFrame'>\n",
      "Index: 24 entries, 0 to 23\n",
      "Data columns (total 13 columns):\n",
      " #   Column  Non-Null Count  Dtype  \n",
      "---  ------  --------------  -----  \n",
      " 0   P1      24 non-null     float64\n",
      " 1   P3      24 non-null     float64\n",
      " 2   P5      24 non-null     float64\n",
      " 3   P10     24 non-null     float64\n",
      " 4   P15     24 non-null     float64\n",
      " 5   P25     24 non-null     float64\n",
      " 6   P50     24 non-null     float64\n",
      " 7   P75     24 non-null     float64\n",
      " 8   P85     24 non-null     float64\n",
      " 9   P90     24 non-null     float64\n",
      " 10  P95     24 non-null     float64\n",
      " 11  P97     24 non-null     float64\n",
      " 12  P99     24 non-null     float64\n",
      "dtypes: float64(13)\n",
      "memory usage: 2.6 KB\n"
     ]
    }
   ],
   "source": [
    "girls_data.info()"
   ]
  },
  {
   "cell_type": "code",
   "execution_count": 25,
   "id": "76cf39d3",
   "metadata": {},
   "outputs": [
    {
     "name": "stdout",
     "output_type": "stream",
     "text": [
      "<class 'pandas.core.frame.DataFrame'>\n",
      "Index: 24 entries, 0 to 23\n",
      "Data columns (total 13 columns):\n",
      " #   Column  Non-Null Count  Dtype  \n",
      "---  ------  --------------  -----  \n",
      " 0   P1      24 non-null     float64\n",
      " 1   P3      24 non-null     float64\n",
      " 2   P5      24 non-null     float64\n",
      " 3   P10     24 non-null     float64\n",
      " 4   P15     24 non-null     float64\n",
      " 5   P25     24 non-null     float64\n",
      " 6   P50     24 non-null     float64\n",
      " 7   P75     24 non-null     float64\n",
      " 8   P85     24 non-null     float64\n",
      " 9   P90     24 non-null     float64\n",
      " 10  P95     24 non-null     float64\n",
      " 11  P97     24 non-null     float64\n",
      " 12  P99     24 non-null     float64\n",
      "dtypes: float64(13)\n",
      "memory usage: 2.6 KB\n"
     ]
    }
   ],
   "source": [
    "boys_data.info()"
   ]
  },
  {
   "cell_type": "code",
   "execution_count": null,
   "id": "8b7fe57a",
   "metadata": {},
   "outputs": [],
   "source": [
    "import json\n",
    "\n",
    "def df_to_dict(df):\n",
    "    data = {}\n",
    "    for idx, row in df.iterrows():\n",
    "        # Strip \"P\" from column names → make them integers\n",
    "        clean_row = {int(col[1:]): val for col, val in row.items() if pd.notna(val)}\n",
    "        data[str(idx)] = clean_row\n",
    "    return data\n",
    "boys_dict = df_to_dict(boys_data)\n",
    "girls_dict = df_to_dict(girls_data)\n",
    "\n",
    "growth_charts = {\n",
    "    \"boys\": boys_dict,\n",
    "    \"girls\": girls_dict\n",
    "}\n",
    "\n",
    "# Save to JSON file\n",
    "with open(\"data/who_growth_charts.json\", \"w\") as f:\n",
    "    json.dump(growth_charts, f, indent=2)"
   ]
  },
  {
   "cell_type": "code",
   "execution_count": null,
   "id": "b67ed7c5",
   "metadata": {},
   "outputs": [],
   "source": []
  }
 ],
 "metadata": {
  "kernelspec": {
   "display_name": ".venv",
   "language": "python",
   "name": "python3"
  },
  "language_info": {
   "codemirror_mode": {
    "name": "ipython",
    "version": 3
   },
   "file_extension": ".py",
   "mimetype": "text/x-python",
   "name": "python",
   "nbconvert_exporter": "python",
   "pygments_lexer": "ipython3",
   "version": "3.11.4"
  }
 },
 "nbformat": 4,
 "nbformat_minor": 5
}
